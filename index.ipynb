{
 "cells": [
  {
   "cell_type": "markdown",
   "metadata": {
    "toc": true
   },
   "source": [
    "<h1>Table of Contents<span class=\"tocSkip\"></span></h1>\n",
    "<div class=\"toc\"><ul class=\"toc-item\"><li><span><a href=\"#Instance-Methods---Lab\" data-toc-modified-id=\"Instance-Methods---Lab-1\"><span class=\"toc-item-num\">1&nbsp;&nbsp;</span>Instance Methods - Lab</a></span><ul class=\"toc-item\"><li><span><a href=\"#Introduction\" data-toc-modified-id=\"Introduction-1.1\"><span class=\"toc-item-num\">1.1&nbsp;&nbsp;</span>Introduction</a></span></li><li><span><a href=\"#Objectives\" data-toc-modified-id=\"Objectives-1.2\"><span class=\"toc-item-num\">1.2&nbsp;&nbsp;</span>Objectives</a></span></li><li><span><a href=\"#Define-classes-and-instance-methods\" data-toc-modified-id=\"Define-classes-and-instance-methods-1.3\"><span class=\"toc-item-num\">1.3&nbsp;&nbsp;</span>Define classes and instance methods</a></span></li><li><span><a href=\"#Instantiate-classes-and-methods\" data-toc-modified-id=\"Instantiate-classes-and-methods-1.4\"><span class=\"toc-item-num\">1.4&nbsp;&nbsp;</span>Instantiate classes and methods</a></span></li><li><span><a href=\"#Feel-like-doing-more?\" data-toc-modified-id=\"Feel-like-doing-more?-1.5\"><span class=\"toc-item-num\">1.5&nbsp;&nbsp;</span>Feel like doing more?</a></span></li><li><span><a href=\"#Summary\" data-toc-modified-id=\"Summary-1.6\"><span class=\"toc-item-num\">1.6&nbsp;&nbsp;</span>Summary</a></span></li></ul></li></ul></div>"
   ]
  },
  {
   "cell_type": "markdown",
   "metadata": {},
   "source": [
    "# Instance Methods - Lab"
   ]
  },
  {
   "cell_type": "markdown",
   "metadata": {},
   "source": [
    "## Introduction\n",
    "In the last lesson, you learned about instance methods -- what they are and how to define them. In this lab, you are going to flesh out the `Driver` and `Passenger` classes by writing your own instance methods for these classes."
   ]
  },
  {
   "cell_type": "markdown",
   "metadata": {},
   "source": [
    "## Objectives\n",
    "\n",
    "In this lab you will: \n",
    "\n",
    "* Create an instance of a class \n",
    "* Define and call an instance method\n"
   ]
  },
  {
   "cell_type": "markdown",
   "metadata": {},
   "source": [
    "## Define classes and instance methods"
   ]
  },
  {
   "cell_type": "markdown",
   "metadata": {},
   "source": [
    "You will now define classes and associated instance methods in the cell below: \n",
    "    \n",
    "> **Remember:** *as we learned in the previous lesson, we need to define our instance methods with at least one argument (`self`) in order to call them on an instance object.*"
   ]
  },
  {
   "cell_type": "markdown",
   "metadata": {},
   "source": [
    "Define a class `Driver` with two instance methods: \n",
    "\n",
    "- `greeting`: this should return the string `\"Hey, how are you?\"` \n",
    "- `ask_for_destination`: this should return the string `\"Where would you like to go today?\"` "
   ]
  },
  {
   "cell_type": "code",
   "execution_count": 1,
   "metadata": {
    "ExecuteTime": {
     "end_time": "2019-12-28T04:42:27.468867Z",
     "start_time": "2019-12-28T04:42:27.461199Z"
    },
    "collapsed": true
   },
   "outputs": [],
   "source": [
    "class Driver:\n",
    "    def greeting(self):\n",
    "        return \"Hey. how are you?\"\n",
    "    def ask_for_destination(self):\n",
    "        return \"Where would you like to go today?\""
   ]
  },
  {
   "cell_type": "markdown",
   "metadata": {},
   "source": [
    "Define a class `Passenger` with two instance methods: \n",
    "\n",
    "- `reply_greeting`: this should return the string `\"I am doing well!\"` \n",
    "- `in_a_hurry`: this should return the string `\"Punch it! They're on our tail!\"`"
   ]
  },
  {
   "cell_type": "code",
   "execution_count": 2,
   "metadata": {
    "ExecuteTime": {
     "end_time": "2019-12-28T04:43:23.069200Z",
     "start_time": "2019-12-28T04:43:23.060566Z"
    },
    "collapsed": true
   },
   "outputs": [],
   "source": [
    "class Passenger:\n",
    "    def reply_greeting(self):\n",
    "        return \"I am doing well!\"\n",
    "    def in_a_hurry(self):\n",
    "        return \"Punch it! They're on our tail!\""
   ]
  },
  {
   "cell_type": "markdown",
   "metadata": {},
   "source": [
    "## Instantiate classes and methods\n",
    "\n",
    "Great! You've now defined classes and the associated instance methods. You will now actually use them: \n",
    "\n",
    "Start by instantiating a driver and a passenger. Assign the driver to the variable `daniel` and assign the passenger to `niky`. "
   ]
  },
  {
   "cell_type": "code",
   "execution_count": 3,
   "metadata": {
    "ExecuteTime": {
     "end_time": "2019-12-28T04:43:51.108312Z",
     "start_time": "2019-12-28T04:43:51.102169Z"
    },
    "collapsed": true
   },
   "outputs": [],
   "source": [
    "daniel = Driver()\n",
    "niky = Passenger()"
   ]
  },
  {
   "cell_type": "markdown",
   "metadata": {},
   "source": [
    "Alright, you have the passengers and drivers! Now you need to put those instance methods to use. Try them out and assign the return values to the variables below. \n",
    "\n",
    "- Have `daniel` greet his passenger, who is going to be `niky`. Assign the greeting to the variable `polite_greeting` \n",
    "- Have `niky` respond by calling `in_a_hurry()`, and assign the return value to the variable, `no_time_to_talk` "
   ]
  },
  {
   "cell_type": "code",
   "execution_count": 4,
   "metadata": {
    "ExecuteTime": {
     "end_time": "2019-12-28T04:46:42.057695Z",
     "start_time": "2019-12-28T04:46:42.049040Z"
    }
   },
   "outputs": [
    {
     "name": "stdout",
     "output_type": "stream",
     "text": [
      "Hey. how are you?\n"
     ]
    }
   ],
   "source": [
    "polite_greeting = daniel.greeting()\n",
    "print(polite_greeting)"
   ]
  },
  {
   "cell_type": "code",
   "execution_count": 5,
   "metadata": {
    "ExecuteTime": {
     "end_time": "2019-12-28T04:47:01.033589Z",
     "start_time": "2019-12-28T04:47:01.021636Z"
    }
   },
   "outputs": [
    {
     "name": "stdout",
     "output_type": "stream",
     "text": [
      "Punch it! They're on our tail!\n"
     ]
    }
   ],
   "source": [
    "no_time_to_talk = niky.in_a_hurry()\n",
    "print(no_time_to_talk)"
   ]
  },
  {
   "cell_type": "markdown",
   "metadata": {},
   "source": [
    "## Feel like doing more? \n",
    "\n",
    "In the cells below, you'll create three different classes that represent animals in a zoo -- lions, tigers, and elephants. Each animal should have a method, `speak()`, which returns a string containing the sound they make (feel free to have some fun with this -- we don't know how to spell the sound an elephant makes any better than you do!). "
   ]
  },
  {
   "cell_type": "code",
   "execution_count": 13,
   "metadata": {
    "ExecuteTime": {
     "end_time": "2019-12-28T04:54:23.180636Z",
     "start_time": "2019-12-28T04:54:23.172595Z"
    },
    "collapsed": true
   },
   "outputs": [],
   "source": [
    "# Create Lion class\n",
    "class Lion:\n",
    "    def speak(self):\n",
    "        return \"ROOOOOAR!\"\n",
    "    "
   ]
  },
  {
   "cell_type": "code",
   "execution_count": 14,
   "metadata": {
    "ExecuteTime": {
     "end_time": "2019-12-28T04:54:24.711526Z",
     "start_time": "2019-12-28T04:54:24.703065Z"
    },
    "collapsed": true
   },
   "outputs": [],
   "source": [
    "# Create Tiger class\n",
    "class Tiger:\n",
    "    def speak(self):\n",
    "        return \"grrrrrr\""
   ]
  },
  {
   "cell_type": "code",
   "execution_count": 15,
   "metadata": {
    "ExecuteTime": {
     "end_time": "2019-12-28T04:54:25.061956Z",
     "start_time": "2019-12-28T04:54:25.054690Z"
    },
    "collapsed": true
   },
   "outputs": [],
   "source": [
    "# Create Elephant class\n",
    "class Elephant:\n",
    "    def speak(self):\n",
    "        return \"bpphttmp!!\""
   ]
  },
  {
   "cell_type": "markdown",
   "metadata": {},
   "source": [
    "Now, in the cell below, create an instance of each animal: "
   ]
  },
  {
   "cell_type": "code",
   "execution_count": 16,
   "metadata": {
    "ExecuteTime": {
     "end_time": "2019-12-28T04:54:25.724630Z",
     "start_time": "2019-12-28T04:54:25.717834Z"
    },
    "collapsed": true
   },
   "outputs": [],
   "source": [
    "simba = Lion()\n",
    "tony = Tiger()\n",
    "dumbo = Elephant()"
   ]
  },
  {
   "cell_type": "markdown",
   "metadata": {},
   "source": [
    "Now, add each of them into the list `zoo` in the cell below: "
   ]
  },
  {
   "cell_type": "code",
   "execution_count": 17,
   "metadata": {
    "ExecuteTime": {
     "end_time": "2019-12-28T04:54:26.675785Z",
     "start_time": "2019-12-28T04:54:26.670055Z"
    }
   },
   "outputs": [],
   "source": [
    "zoo = [simba, tony, dumbo]"
   ]
  },
  {
   "cell_type": "markdown",
   "metadata": {},
   "source": [
    "Now, loop through the `zoo` list and call out the `.speak()` method for every animal in the zoo. Make sure you print this in order to see the output! "
   ]
  },
  {
   "cell_type": "code",
   "execution_count": 18,
   "metadata": {
    "ExecuteTime": {
     "end_time": "2019-12-28T04:54:27.349149Z",
     "start_time": "2019-12-28T04:54:27.339440Z"
    }
   },
   "outputs": [
    {
     "name": "stdout",
     "output_type": "stream",
     "text": [
      "ROOOOOAR!\n",
      "grrrrrr\n",
      "bpphttmp!!\n"
     ]
    }
   ],
   "source": [
    "for animal in zoo:\n",
    "    print(animal.speak())"
   ]
  },
  {
   "cell_type": "markdown",
   "metadata": {},
   "source": [
    "## Summary\n",
    "In this lab, you practiced defining classes and instance methods. You then instantiated instances of your classes and used them to practice calling your instance methods. "
   ]
  }
 ],
 "metadata": {
  "kernelspec": {
   "display_name": "Python 3",
   "language": "python",
   "name": "python3"
  },
  "toc": {
   "base_numbering": 1,
   "nav_menu": {},
   "number_sections": true,
   "sideBar": true,
   "skip_h1_title": false,
   "title_cell": "Table of Contents",
   "title_sidebar": "Contents",
   "toc_cell": true,
   "toc_position": {},
   "toc_section_display": true,
   "toc_window_display": true
  },
  "varInspector": {
   "cols": {
    "lenName": 16,
    "lenType": 16,
    "lenVar": 40
   },
   "kernels_config": {
    "python": {
     "delete_cmd_postfix": "",
     "delete_cmd_prefix": "del ",
     "library": "var_list.py",
     "varRefreshCmd": "print(var_dic_list())"
    },
    "r": {
     "delete_cmd_postfix": ") ",
     "delete_cmd_prefix": "rm(",
     "library": "var_list.r",
     "varRefreshCmd": "cat(var_dic_list()) "
    }
   },
   "types_to_exclude": [
    "module",
    "function",
    "builtin_function_or_method",
    "instance",
    "_Feature"
   ],
   "window_display": true
  }
 },
 "nbformat": 4,
 "nbformat_minor": 2
}
